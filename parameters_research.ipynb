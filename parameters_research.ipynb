{
 "cells": [
  {
   "cell_type": "markdown",
   "id": "0",
   "metadata": {},
   "source": [
    "# Parameters Search"
   ]
  },
  {
   "cell_type": "code",
   "execution_count": null,
   "id": "1",
   "metadata": {},
   "outputs": [],
   "source": [
    "import numpy as np\n",
    "import matplotlib.pyplot as plt\n",
    "from scipy.sparse.linalg import svds\n",
    "import scipy.sparse as sp\n",
    "from kmodes.kmodes import KModes"
   ]
  },
  {
   "cell_type": "code",
   "execution_count": null,
   "id": "2",
   "metadata": {},
   "outputs": [],
   "source": [
    "R_bin = np.load('utility_matrix.npy')"
   ]
  },
  {
   "cell_type": "markdown",
   "id": "3",
   "metadata": {},
   "source": [
    "## Number of clusters"
   ]
  },
  {
   "cell_type": "code",
   "execution_count": null,
   "id": "4",
   "metadata": {},
   "outputs": [],
   "source": [
    "random_columns_indices = np.random.choice(R_bin.shape[1], 1500, replace=False) #sottoinsieme di items\n",
    "cost = []\n",
    "K = range(1, 20)  \n",
    "for k in K:\n",
    "    kmode = KModes(n_clusters=k, init='Huang', n_init=1)\n",
    "    kmode.fit(R_bin[:,random_columns_indices])\n",
    "    cost.append(kmode.cost_)"
   ]
  },
  {
   "cell_type": "code",
   "execution_count": null,
   "id": "5",
   "metadata": {},
   "outputs": [],
   "source": [
    "plt.figure(figsize=(8, 6))\n",
    "plt.plot(K, cost, 'bx-')\n",
    "plt.xlabel('Number of cluster (k)')\n",
    "plt.ylabel('Cost of disagreement')\n",
    "plt.xticks(np.arange(0, 21, 1))\n",
    "plt.show()"
   ]
  },
  {
   "cell_type": "code",
   "execution_count": null,
   "id": "6",
   "metadata": {},
   "outputs": [],
   "source": [
    "\"\"\"kmode = KModes(n_clusters=7, init='Huang', n_init=5)\n",
    "clusters = kmode.fit_predict(R_bin)\n",
    "np.save('clusters.npy', R_bin)\"\"\""
   ]
  },
  {
   "cell_type": "code",
   "execution_count": null,
   "id": "7",
   "metadata": {},
   "outputs": [],
   "source": [
    "clusters = np.load('clusters.npy')\n",
    "num_clust = np.unique(clusters).size"
   ]
  },
  {
   "cell_type": "markdown",
   "id": "8",
   "metadata": {},
   "source": [
    "## Global factors search"
   ]
  },
  {
   "cell_type": "code",
   "execution_count": null,
   "id": "9",
   "metadata": {},
   "outputs": [],
   "source": [
    "R_global_sparse = sp.csr_matrix(R_bin)\n",
    "\n",
    "user_global, sigma_global, item_global = svds(R_global_sparse, k=100)\n",
    "\n",
    "sigma_desc = np.sort(sigma_global)[::-1]"
   ]
  },
  {
   "cell_type": "code",
   "execution_count": null,
   "id": "10",
   "metadata": {},
   "outputs": [],
   "source": [
    "plt.figure(figsize=(8, 6))\n",
    "plt.plot(sigma_desc[:100], 'bx-')\n",
    "plt.xlabel('Number of latent Factor')\n",
    "plt.ylabel('Weight of the factor')\n",
    "plt.xticks(np.arange(0, 101, 5))\n",
    "plt.show()"
   ]
  },
  {
   "cell_type": "markdown",
   "id": "11",
   "metadata": {},
   "source": [
    "## Local factors search"
   ]
  },
  {
   "cell_type": "code",
   "execution_count": null,
   "id": "12",
   "metadata": {},
   "outputs": [],
   "source": [
    "R_local = [None] * num_clust # List for local matrix\n",
    "U_local = [None] * num_clust\n",
    "sigma_local = [None] * num_clust\n",
    "Vt_local = [None] * num_clust\n",
    "\n",
    "for i in range(num_clust): #Local matrix initialization\n",
    "   \n",
    "    user_indices_in_cluster = np.where(clusters == i)[0]\n",
    "\n",
    "    R_local[i] = R_bin[user_indices_in_cluster, :]\n",
    "\n",
    "    \n",
    "    R_local_sparse = sp.csr_matrix(R_local[i])    \n",
    "    # SVD on local cluster\n",
    "    U_loc, sigma_loc_diag, Vt_loc = svds(R_local_sparse, k=20)\n",
    "    \n",
    "    U_local[i] = U_loc\n",
    "    Vt_local[i] = Vt_loc\n",
    "    sigma_local[i] = np.sort(sigma_loc_diag)[::-1]\n"
   ]
  },
  {
   "cell_type": "code",
   "execution_count": null,
   "id": "13",
   "metadata": {},
   "outputs": [],
   "source": [
    "fig, axes = plt.subplots(num_clust, 1, figsize=(10, 5*num_clust))\n",
    "\n",
    "for i, arr in enumerate(sigma_local):\n",
    "    x = np.arange(1, len(arr)+1)\n",
    "    axes[i].plot(x, arr, marker='o', color=f\"C{i}\")\n",
    "    axes[i].set_ylabel(f'Cluster {i+1}')\n",
    "    axes[i].grid(True)\n",
    "    axes[i].set_xlabel('Latent Factor')\n",
    "    axes[i].set_xticks(x)\n",
    "plt.tight_layout()\n",
    "plt.show()\n"
   ]
  }
 ],
 "metadata": {
  "kernelspec": {
   "display_name": "mmd_project (3.12.9)",
   "language": "python",
   "name": "python3"
  },
  "language_info": {
   "codemirror_mode": {
    "name": "ipython",
    "version": 3
   },
   "file_extension": ".py",
   "mimetype": "text/x-python",
   "name": "python",
   "nbconvert_exporter": "python",
   "pygments_lexer": "ipython3",
   "version": "3.12.9"
  }
 },
 "nbformat": 4,
 "nbformat_minor": 5
}
